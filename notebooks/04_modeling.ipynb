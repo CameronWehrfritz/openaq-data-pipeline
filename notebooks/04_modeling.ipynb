{
 "cells": [
  {
   "cell_type": "markdown",
   "id": "fdc2b1cd",
   "metadata": {},
   "source": [
    "# Modeling: OpenAQ API\n",
    "\n",
    "-  clustering, forecasting, or regression modeling"
   ]
  }
 ],
 "metadata": {
  "language_info": {
   "name": "python"
  }
 },
 "nbformat": 4,
 "nbformat_minor": 5
}
