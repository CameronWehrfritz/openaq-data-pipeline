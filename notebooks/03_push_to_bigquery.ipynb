{
 "cells": [
  {
   "cell_type": "markdown",
   "id": "8ec18785",
   "metadata": {},
   "source": [
    "# Push OpenAQ data to BigQuery\n",
    "\n",
    "-  Reads staging files.\n",
    "\n",
    "-  Checks for duplicates & appends new rows to BigQuery.\n",
    "\n",
    "-  Updates job tracking table."
   ]
  },
  {
   "cell_type": "code",
   "execution_count": null,
   "id": "32b645d9",
   "metadata": {
    "vscode": {
     "languageId": "plaintext"
    }
   },
   "outputs": [],
   "source": []
  }
 ],
 "metadata": {
  "language_info": {
   "name": "python"
  }
 },
 "nbformat": 4,
 "nbformat_minor": 5
}
