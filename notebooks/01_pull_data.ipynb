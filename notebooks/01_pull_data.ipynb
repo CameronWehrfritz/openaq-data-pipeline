{
 "cells": [
  {
   "cell_type": "markdown",
   "id": "8c0e924c",
   "metadata": {},
   "source": [
    "# Step 1: Pull Air Quality Data from OpenAQ\n",
    "\n"
   ]
  },
  {
   "cell_type": "code",
   "execution_count": null,
   "id": "53211c8b",
   "metadata": {},
   "outputs": [],
   "source": [
    "import requests\n",
    "import pandas as pd\n",
    "import time\n",
    "\n",
    "# Settings\n",
    "BASE_URL = \"https://api.openaq.org/v2/measurements\"\n",
    "CITY = \"San Francisco\"\n",
    "PARAMETER = \"pm25\"\n",
    "DATE_FROM = \"2024-07-01\"\n",
    "DATE_TO = \"2024-07-07\"\n",
    "LIMIT = 100  # max per request\n",
    "PAGES = 5    # adjust as needed\n",
    "\n",
    "# Collect records\n",
    "all_results = []\n",
    "\n",
    "for page in range(1, PAGES + 1):\n",
    "    params = {\n",
    "        \"country\": \"US\",\n",
    "        \"city\": CITY,\n",
    "        \"parameter\": PARAMETER,\n",
    "        \"date_from\": DATE_FROM,\n",
    "        \"date_to\": DATE_TO,\n",
    "        \"limit\": LIMIT,\n",
    "        \"page\": page,\n",
    "        \"sort\": \"desc\",\n",
    "        \"order_by\": \"datetime\"\n",
    "    }\n",
    "\n",
    "    response = requests.get(BASE_URL, params=params)\n",
    "    if response.status_code == 200:\n",
    "        results = response.json().get(\"results\", [])\n",
    "        all_results.extend(results)\n",
    "        time.sleep(1)  # be gentle with the server\n",
    "    else:\n",
    "        print(f\"Error: {response.status_code}\")\n",
    "        break\n",
    "\n",
    "# Convert to DataFrame\n",
    "df = pd.json_normalize(all_results)\n",
    "print(df.head())\n",
    "\n",
    "# Save for BigQuery\n",
    "df.to_csv(\"openaq_sf_pm25.csv\", index=False)\n"
   ]
  }
 ],
 "metadata": {
  "kernelspec": {
   "display_name": "Python (openaq-env)",
   "language": "python",
   "name": "openaq-env"
  },
  "language_info": {
   "name": "python",
   "version": "3.13.5"
  }
 },
 "nbformat": 4,
 "nbformat_minor": 5
}
