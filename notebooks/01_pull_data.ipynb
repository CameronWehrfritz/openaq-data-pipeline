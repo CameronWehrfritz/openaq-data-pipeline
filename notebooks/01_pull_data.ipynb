{
 "cells": [
  {
   "cell_type": "markdown",
   "id": "1d78eff2",
   "metadata": {},
   "source": [
    "# 📥 Data Pull: OpenAQ API\n",
    "\n",
    "This notebook pulls air quality measurements from the OpenAQ API and saves them locally for further analysis in downstream notebooks.\n"
   ]
  },
  {
   "cell_type": "code",
   "execution_count": null,
   "id": "3819075e",
   "metadata": {},
   "outputs": [],
   "source": [
    "# Imports and Environment Setup\n",
    " \n",
    "# Standard libraries\n",
    "import os\n",
    "import sys\n",
    "import json\n",
    "import requests\n",
    "import pandas as pd\n",
    "\n",
    "# Add parent directory to sys.path\n",
    "project_root = os.path.abspath(os.path.join(os.getcwd(), '..'))\n",
    "if project_root not in sys.path:\n",
    "    sys.path.append(project_root)\n",
    "\n",
    "# Import API keys securely from config file, which loads them from the .env file\n",
    "from scripts.config import OPENAQ_API_KEY, GITHUB_PAT\n",
    "\n",
    "# define headers for API call\n",
    "headers = {\n",
    "    \"accept\": \"application/json\",\n",
    "    \"X-API-Key\": OPENAQ_API_KEY\n",
    "}"
   ]
  },
  {
   "cell_type": "code",
   "execution_count": null,
   "id": "24bc7cca",
   "metadata": {},
   "outputs": [
    {
     "name": "stdout",
     "output_type": "stream",
     "text": [
      "[{'id': 1, 'code': 'ID', 'name': 'Indonesia', 'datetimeFirst': '2016-01-30T01:00:00Z', 'datetimeLast': '2025-07-29T18:05:21.737000Z', 'parameters': [{'id': 1, 'name': 'pm10', 'units': 'µg/m³', 'displayName': None}, {'id': 2, 'name': 'pm25', 'units': 'µg/m³', 'displayName': None}, {'id': 3, 'name': 'o3', 'units': 'µg/m³', 'displayName': None}, {'id': 10, 'name': 'o3', 'units': 'ppm', 'displayName': None}, {'id': 11, 'name': 'bc', 'units': 'µg/m³', 'displayName': None}, {'id': 15, 'name': 'no2', 'units': 'ppb', 'displayName': None}, {'id': 19, 'name': 'pm1', 'units': 'µg/m³', 'displayName': None}, {'id': 21, 'name': 'co2', 'units': 'ppm', 'displayName': None}, {'id': 24, 'name': 'no', 'units': 'ppb', 'displayName': None}, {'id': 98, 'name': 'relativehumidity', 'units': '%', 'displayName': None}, {'id': 100, 'name': 'temperature', 'units': 'c', 'displayName': None}, {'id': 125, 'name': 'um003', 'units': 'particles/cm³', 'displayName': None}, {'id': 128, 'name': 'temperature', 'units': 'f', 'displayName': None}, {'id': 130, 'name': 'um025', 'units': 'particles/cm³', 'displayName': None}]}, {'id': 2, 'code': 'MY', 'name': 'Malaysia', 'datetimeFirst': '2022-11-03T21:00:00Z', 'datetimeLast': '2025-07-29T18:00:00Z', 'parameters': [{'id': 1, 'name': 'pm10', 'units': 'µg/m³', 'displayName': None}, {'id': 2, 'name': 'pm25', 'units': 'µg/m³', 'displayName': None}, {'id': 19, 'name': 'pm1', 'units': 'µg/m³', 'displayName': None}, {'id': 98, 'name': 'relativehumidity', 'units': '%', 'displayName': None}, {'id': 100, 'name': 'temperature', 'units': 'c', 'displayName': None}, {'id': 125, 'name': 'um003', 'units': 'particles/cm³', 'displayName': None}]}, {'id': 3, 'code': 'CL', 'name': 'Chile', 'datetimeFirst': '2016-01-30T01:00:00Z', 'datetimeLast': '2025-07-29T18:00:00Z', 'parameters': [{'id': 1, 'name': 'pm10', 'units': 'µg/m³', 'displayName': None}, {'id': 2, 'name': 'pm25', 'units': 'µg/m³', 'displayName': None}, {'id': 3, 'name': 'o3', 'units': 'µg/m³', 'displayName': None}, {'id': 4, 'name': 'co', 'units': 'µg/m³', 'displayName': None}, {'id': 5, 'name': 'no2', 'units': 'µg/m³', 'displayName': None}, {'id': 6, 'name': 'so2', 'units': 'µg/m³', 'displayName': None}, {'id': 19, 'name': 'pm1', 'units': 'µg/m³', 'displayName': None}, {'id': 98, 'name': 'relativehumidity', 'units': '%', 'displayName': None}, {'id': 100, 'name': 'temperature', 'units': 'c', 'displayName': None}, {'id': 125, 'name': 'um003', 'units': 'particles/cm³', 'displayName': None}]}]\n"
     ]
    }
   ],
   "source": [
    "# make a simple API Call\n",
    "url = \"https://api.openaq.org/v3/countries\"\n",
    "\n",
    "response = requests.get(url, headers=headers)\n",
    "response.raise_for_status()  # raises error if something went wrong\n",
    "\n",
    "data = response.json()\n",
    "print(data['results'][:3])  # print first 3 results"
   ]
  },
  {
   "cell_type": "code",
   "execution_count": null,
   "id": "4381f737",
   "metadata": {},
   "outputs": [
    {
     "name": "stdout",
     "output_type": "stream",
     "text": [
      "[{'id': 3, 'name': 'NMA - Nima', 'locality': None, 'timezone': 'Africa/Accra', 'country': {'id': 152, 'code': 'GH', 'name': 'Ghana'}, 'owner': {'id': 4, 'name': 'Unknown Governmental Organization'}, 'provider': {'id': 209, 'name': 'Dr. Raphael E. Arku and Colleagues'}, 'isMobile': False, 'isMonitor': True, 'instruments': [{'id': 2, 'name': 'Government Monitor'}], 'sensors': [{'id': 6, 'name': 'pm10 µg/m³', 'parameter': {'id': 1, 'name': 'pm10', 'units': 'µg/m³', 'displayName': 'PM10'}}, {'id': 5, 'name': 'pm25 µg/m³', 'parameter': {'id': 2, 'name': 'pm25', 'units': 'µg/m³', 'displayName': 'PM2.5'}}], 'coordinates': {'latitude': 5.58389, 'longitude': -0.19968}, 'licenses': None, 'bounds': [-0.19968, 5.58389, -0.19968, 5.58389], 'distance': None, 'datetimeFirst': None, 'datetimeLast': None}, {'id': 4, 'name': 'NMT - Nima', 'locality': None, 'timezone': 'Africa/Accra', 'country': {'id': 152, 'code': 'GH', 'name': 'Ghana'}, 'owner': {'id': 4, 'name': 'Unknown Governmental Organization'}, 'provider': {'id': 209, 'name': 'Dr. Raphael E. Arku and Colleagues'}, 'isMobile': False, 'isMonitor': True, 'instruments': [{'id': 2, 'name': 'Government Monitor'}], 'sensors': [{'id': 7, 'name': 'pm10 µg/m³', 'parameter': {'id': 1, 'name': 'pm10', 'units': 'µg/m³', 'displayName': 'PM10'}}, {'id': 8, 'name': 'pm25 µg/m³', 'parameter': {'id': 2, 'name': 'pm25', 'units': 'µg/m³', 'displayName': 'PM2.5'}}], 'coordinates': {'latitude': 5.58165, 'longitude': -0.19898}, 'licenses': None, 'bounds': [-0.19898, 5.58165, -0.19898, 5.58165], 'distance': None, 'datetimeFirst': None, 'datetimeLast': None}, {'id': 5, 'name': 'JTA - Jamestown', 'locality': None, 'timezone': 'Africa/Accra', 'country': {'id': 152, 'code': 'GH', 'name': 'Ghana'}, 'owner': {'id': 4, 'name': 'Unknown Governmental Organization'}, 'provider': {'id': 209, 'name': 'Dr. Raphael E. Arku and Colleagues'}, 'isMobile': False, 'isMonitor': True, 'instruments': [{'id': 2, 'name': 'Government Monitor'}], 'sensors': [{'id': 10, 'name': 'pm10 µg/m³', 'parameter': {'id': 1, 'name': 'pm10', 'units': 'µg/m³', 'displayName': 'PM10'}}, {'id': 9, 'name': 'pm25 µg/m³', 'parameter': {'id': 2, 'name': 'pm25', 'units': 'µg/m³', 'displayName': 'PM2.5'}}], 'coordinates': {'latitude': 5.5401139, 'longitude': -0.2103972}, 'licenses': None, 'bounds': [-0.2103972, 5.5401139, -0.2103972, 5.5401139], 'distance': None, 'datetimeFirst': None, 'datetimeLast': None}, {'id': 6, 'name': 'ADT - Asylum Down', 'locality': None, 'timezone': 'Africa/Accra', 'country': {'id': 152, 'code': 'GH', 'name': 'Ghana'}, 'owner': {'id': 4, 'name': 'Unknown Governmental Organization'}, 'provider': {'id': 209, 'name': 'Dr. Raphael E. Arku and Colleagues'}, 'isMobile': False, 'isMonitor': True, 'instruments': [{'id': 2, 'name': 'Government Monitor'}], 'sensors': [{'id': 11, 'name': 'pm10 µg/m³', 'parameter': {'id': 1, 'name': 'pm10', 'units': 'µg/m³', 'displayName': 'PM10'}}, {'id': 12, 'name': 'pm25 µg/m³', 'parameter': {'id': 2, 'name': 'pm25', 'units': 'µg/m³', 'displayName': 'PM2.5'}}], 'coordinates': {'latitude': 5.570722, 'longitude': -0.2120555}, 'licenses': None, 'bounds': [-0.2120555, 5.570722, -0.2120555, 5.570722], 'distance': None, 'datetimeFirst': None, 'datetimeLast': None}, {'id': 7, 'name': 'ADEPA - Asylum Down', 'locality': None, 'timezone': 'Africa/Accra', 'country': {'id': 152, 'code': 'GH', 'name': 'Ghana'}, 'owner': {'id': 4, 'name': 'Unknown Governmental Organization'}, 'provider': {'id': 209, 'name': 'Dr. Raphael E. Arku and Colleagues'}, 'isMobile': False, 'isMonitor': True, 'instruments': [{'id': 2, 'name': 'Government Monitor'}], 'sensors': [{'id': 14, 'name': 'pm10 µg/m³', 'parameter': {'id': 1, 'name': 'pm10', 'units': 'µg/m³', 'displayName': 'PM10'}}, {'id': 13, 'name': 'pm25 µg/m³', 'parameter': {'id': 2, 'name': 'pm25', 'units': 'µg/m³', 'displayName': 'PM2.5'}}], 'coordinates': {'latitude': 5.567833, 'longitude': -0.2040278}, 'licenses': None, 'bounds': [-0.2040278, 5.567833, -0.2040278, 5.567833], 'distance': None, 'datetimeFirst': None, 'datetimeLast': None}]\n"
     ]
    }
   ],
   "source": [
    "'''Start by listing locations or sensors in US with PM2.5 parameter\n",
    "This will give valid location or sensor IDs to target:\n",
    "'''\n",
    "\n",
    "url_locations = \"https://api.openaq.org/v3/locations\"\n",
    "params_locations = {\n",
    "    \"country\": \"US\",\n",
    "    \"parameters\": \"pm25\",\n",
    "    \"limit\": 5\n",
    "}\n",
    "\n",
    "response = requests.get(url_locations, headers=headers, params=params_locations)\n",
    "response.raise_for_status()\n",
    "locations_data = response.json()\n",
    "print(locations_data['results'])"
   ]
  },
  {
   "cell_type": "code",
   "execution_count": 94,
   "id": "ebde23f8",
   "metadata": {},
   "outputs": [
    {
     "name": "stdout",
     "output_type": "stream",
     "text": [
      "Location IDs: [3, 4, 5, 6, 7]\n"
     ]
    }
   ],
   "source": [
    "location_ids = [loc['id'] for loc in locations_data['results']]\n",
    "print(\"Location IDs:\", location_ids)"
   ]
  },
  {
   "cell_type": "code",
   "execution_count": 102,
   "id": "1b71325f",
   "metadata": {},
   "outputs": [
    {
     "name": "stdout",
     "output_type": "stream",
     "text": [
      "[{'id': 1, 'name': 'pm10', 'units': 'µg/m³', 'displayName': 'PM10', 'description': 'Particulate matter less than 10 micrometers in diameter mass concentration'}, {'id': 2, 'name': 'pm25', 'units': 'µg/m³', 'displayName': 'PM2.5', 'description': 'Particulate matter less than 2.5 micrometers in diameter mass concentration'}, {'id': 3, 'name': 'o3', 'units': 'µg/m³', 'displayName': 'O₃ mass', 'description': 'Ozone mass concentration'}, {'id': 4, 'name': 'co', 'units': 'µg/m³', 'displayName': 'CO mass', 'description': 'Carbon Monoxide mass concentration'}, {'id': 5, 'name': 'no2', 'units': 'µg/m³', 'displayName': 'NO₂ mass', 'description': 'Nitrogen Dioxide mass concentration'}, {'id': 6, 'name': 'so2', 'units': 'µg/m³', 'displayName': 'SO₂ mass', 'description': 'Sulfur Dioxide mass concentration'}, {'id': 7, 'name': 'no2', 'units': 'ppm', 'displayName': 'NO₂', 'description': 'Nitrogen Dioxide concentration'}, {'id': 8, 'name': 'co', 'units': 'ppm', 'displayName': 'CO', 'description': 'Carbon Monoxide concentration'}, {'id': 9, 'name': 'so2', 'units': 'ppm', 'displayName': 'SO₂', 'description': 'Sulfur Dioxide concentration'}, {'id': 10, 'name': 'o3', 'units': 'ppm', 'displayName': 'O₃', 'description': 'Ozone concentration'}, {'id': 11, 'name': 'bc', 'units': 'µg/m³', 'displayName': 'BC', 'description': 'Black Carbon mass concentration'}, {'id': 15, 'name': 'no2', 'units': 'ppb', 'displayName': 'NO₂', 'description': None}, {'id': 19, 'name': 'pm1', 'units': 'µg/m³', 'displayName': 'PM1', 'description': 'Particulate matter less than 1 micrometer in diameter mass concentration'}, {'id': 21, 'name': 'co2', 'units': 'ppm', 'displayName': 'CO₂', 'description': 'Carbon Dioxide concentration'}, {'id': 22, 'name': 'wind_direction', 'units': 'deg', 'displayName': 'Wind direction', 'description': 'Direction that the wind originates from'}, {'id': 23, 'name': 'nox', 'units': 'ppb', 'displayName': 'NOX', 'description': None}, {'id': 24, 'name': 'no', 'units': 'ppb', 'displayName': 'NO', 'description': None}, {'id': 27, 'name': 'nox', 'units': 'µg/m³', 'displayName': 'NOx mass', 'description': 'Nitrogen Oxides mass concentration'}, {'id': 28, 'name': 'ch4', 'units': 'ppm', 'displayName': 'CH₄', 'description': 'Methane concentration'}, {'id': 32, 'name': 'o3', 'units': 'ppb', 'displayName': 'O₃', 'description': None}, {'id': 33, 'name': 'ufp', 'units': 'particles/cm³', 'displayName': 'UFP count', 'description': 'Ultrafine Particles count concentration'}, {'id': 34, 'name': 'wind_speed', 'units': 'm/s', 'displayName': 'Wind speed', 'description': 'Average wind speed in meters per second'}, {'id': 35, 'name': 'no', 'units': 'ppm', 'displayName': 'NO', 'description': 'Nitrogen Monoxide concentration'}, {'id': 95, 'name': 'pressure', 'units': 'hpa', 'displayName': 'Atmospheric pressure', 'description': 'Atmospheric or barometric pressure'}, {'id': 97, 'name': 'pm25-old', 'units': 'ugm3', 'displayName': None, 'description': None}, {'id': 98, 'name': 'relativehumidity', 'units': '%', 'displayName': 'RH', 'description': None}, {'id': 100, 'name': 'temperature', 'units': 'c', 'displayName': 'Temperature (C)', 'description': None}, {'id': 101, 'name': 'so2', 'units': 'ppb', 'displayName': 'SO₂', 'description': None}, {'id': 102, 'name': 'co', 'units': 'ppb', 'displayName': 'CO', 'description': None}, {'id': 125, 'name': 'um003', 'units': 'particles/cm³', 'displayName': 'PM0.3 count', 'description': None}, {'id': 126, 'name': 'um010', 'units': 'particles/cm³', 'displayName': 'PM1 count', 'description': 'PM1 count'}, {'id': 128, 'name': 'temperature', 'units': 'f', 'displayName': 'Temperature (F)', 'description': None}, {'id': 130, 'name': 'um025', 'units': 'particles/cm³', 'displayName': 'PM2.5 count', 'description': 'PM2.5 count'}, {'id': 132, 'name': 'pressure', 'units': 'mb', 'displayName': 'Pressure', 'description': None}, {'id': 134, 'name': 'humidity', 'units': '%', 'displayName': 'H', 'description': None}, {'id': 135, 'name': 'um100', 'units': 'particles/cm³', 'displayName': 'PM10 count', 'description': 'PM10 count'}, {'id': 19840, 'name': 'nox', 'units': 'ppm', 'displayName': 'NOx', 'description': 'Nitrogen Oxides concentration'}, {'id': 19843, 'name': 'no', 'units': 'µg/m³', 'displayName': 'NO mass', 'description': 'Nitrogen Monoxide mass concentration'}, {'id': 19844, 'name': 'pm4', 'units': 'µg/m³', 'displayName': 'PM4.0', 'description': 'Particulate matter less than 4 micrometers in diameter mass concentration'}, {'id': 19860, 'name': 'pm25', 'units': 'ppm', 'displayName': None, 'description': None}]\n"
     ]
    }
   ],
   "source": [
    "# call the parameters endpoint to list all available parameters\n",
    "\n",
    "url_parameters = \"https://api.openaq.org/v3/parameters\"\n",
    "response = requests.get(url_parameters, headers=headers)\n",
    "response.raise_for_status()\n",
    "parameters_data = response.json()\n",
    "print(parameters_data['results'])\n"
   ]
  },
  {
   "cell_type": "code",
   "execution_count": 106,
   "id": "9f791ded",
   "metadata": {},
   "outputs": [
    {
     "name": "stdout",
     "output_type": "stream",
     "text": [
      "       id              name           displayName          units  \\\n",
      "0       1              pm10                  PM10          µg/m³   \n",
      "1       2              pm25                 PM2.5          µg/m³   \n",
      "2       3                o3               O₃ mass          µg/m³   \n",
      "3       4                co               CO mass          µg/m³   \n",
      "4       5               no2              NO₂ mass          µg/m³   \n",
      "5       6               so2              SO₂ mass          µg/m³   \n",
      "6       7               no2                   NO₂            ppm   \n",
      "7       8                co                    CO            ppm   \n",
      "8       9               so2                   SO₂            ppm   \n",
      "9      10                o3                    O₃            ppm   \n",
      "10     11                bc                    BC          µg/m³   \n",
      "11     15               no2                   NO₂            ppb   \n",
      "12     19               pm1                   PM1          µg/m³   \n",
      "13     21               co2                   CO₂            ppm   \n",
      "14     22    wind_direction        Wind direction            deg   \n",
      "15     23               nox                   NOX            ppb   \n",
      "16     24                no                    NO            ppb   \n",
      "17     27               nox              NOx mass          µg/m³   \n",
      "18     28               ch4                   CH₄            ppm   \n",
      "19     32                o3                    O₃            ppb   \n",
      "20     33               ufp             UFP count  particles/cm³   \n",
      "21     34        wind_speed            Wind speed            m/s   \n",
      "22     35                no                    NO            ppm   \n",
      "23     95          pressure  Atmospheric pressure            hpa   \n",
      "24     97          pm25-old                  None           ugm3   \n",
      "25     98  relativehumidity                    RH              %   \n",
      "26    100       temperature       Temperature (C)              c   \n",
      "27    101               so2                   SO₂            ppb   \n",
      "28    102                co                    CO            ppb   \n",
      "29    125             um003           PM0.3 count  particles/cm³   \n",
      "30    126             um010             PM1 count  particles/cm³   \n",
      "31    128       temperature       Temperature (F)              f   \n",
      "32    130             um025           PM2.5 count  particles/cm³   \n",
      "33    132          pressure              Pressure             mb   \n",
      "34    134          humidity                     H              %   \n",
      "35    135             um100            PM10 count  particles/cm³   \n",
      "36  19840               nox                   NOx            ppm   \n",
      "37  19843                no               NO mass          µg/m³   \n",
      "38  19844               pm4                 PM4.0          µg/m³   \n",
      "39  19860              pm25                  None            ppm   \n",
      "\n",
      "                                                                    description  \n",
      "0    Particulate matter less than 10 micrometers in diameter mass concentration  \n",
      "1   Particulate matter less than 2.5 micrometers in diameter mass concentration  \n",
      "2                                                      Ozone mass concentration  \n",
      "3                                            Carbon Monoxide mass concentration  \n",
      "4                                           Nitrogen Dioxide mass concentration  \n",
      "5                                             Sulfur Dioxide mass concentration  \n",
      "6                                                Nitrogen Dioxide concentration  \n",
      "7                                                 Carbon Monoxide concentration  \n",
      "8                                                  Sulfur Dioxide concentration  \n",
      "9                                                           Ozone concentration  \n",
      "10                                              Black Carbon mass concentration  \n",
      "11                                                                         None  \n",
      "12     Particulate matter less than 1 micrometer in diameter mass concentration  \n",
      "13                                                 Carbon Dioxide concentration  \n",
      "14                                      Direction that the wind originates from  \n",
      "15                                                                         None  \n",
      "16                                                                         None  \n",
      "17                                           Nitrogen Oxides mass concentration  \n",
      "18                                                        Methane concentration  \n",
      "19                                                                         None  \n",
      "20                                      Ultrafine Particles count concentration  \n",
      "21                                      Average wind speed in meters per second  \n",
      "22                                              Nitrogen Monoxide concentration  \n",
      "23                                           Atmospheric or barometric pressure  \n",
      "24                                                                         None  \n",
      "25                                                                         None  \n",
      "26                                                                         None  \n",
      "27                                                                         None  \n",
      "28                                                                         None  \n",
      "29                                                                         None  \n",
      "30                                                                    PM1 count  \n",
      "31                                                                         None  \n",
      "32                                                                  PM2.5 count  \n",
      "33                                                                         None  \n",
      "34                                                                         None  \n",
      "35                                                                   PM10 count  \n",
      "36                                                Nitrogen Oxides concentration  \n",
      "37                                         Nitrogen Monoxide mass concentration  \n",
      "38    Particulate matter less than 4 micrometers in diameter mass concentration  \n",
      "39                                                                         None  \n"
     ]
    }
   ],
   "source": [
    "# reshape parameters data\n",
    "params_list = parameters_data['results']\n",
    "\n",
    "# Convert to DataFrame\n",
    "df_params = pd.DataFrame(params_list)\n",
    "\n",
    "# Select and reorder columns for better readability\n",
    "columns_to_show = ['id', 'name', 'displayName', 'units', 'description']\n",
    "df_params = df_params[columns_to_show]\n",
    "\n",
    "# Display the DataFrame nicely\n",
    "pd.set_option('display.max_colwidth', 100)  # to avoid truncation of descriptions\n",
    "print(df_params)"
   ]
  }
 ],
 "metadata": {
  "kernelspec": {
   "display_name": "Python (openaq-env)",
   "language": "python",
   "name": "openaq-env"
  },
  "language_info": {
   "codemirror_mode": {
    "name": "ipython",
    "version": 3
   },
   "file_extension": ".py",
   "mimetype": "text/x-python",
   "name": "python",
   "nbconvert_exporter": "python",
   "pygments_lexer": "ipython3",
   "version": "3.13.5"
  }
 },
 "nbformat": 4,
 "nbformat_minor": 5
}
