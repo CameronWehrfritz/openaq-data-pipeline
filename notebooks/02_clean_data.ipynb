{
 "cells": [
  {
   "cell_type": "markdown",
   "id": "71a58619",
   "metadata": {},
   "source": [
    "# Clean and Transform: OpenAQ API\n",
    "\n",
    "- Data cleaning, reshaping, merging with metadata, handling missing values"
   ]
  }
 ],
 "metadata": {
  "language_info": {
   "name": "python"
  }
 },
 "nbformat": 4,
 "nbformat_minor": 5
}
