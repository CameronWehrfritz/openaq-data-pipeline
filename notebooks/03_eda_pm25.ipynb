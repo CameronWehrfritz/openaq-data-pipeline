{
 "cells": [
  {
   "cell_type": "markdown",
   "id": "8ec18785",
   "metadata": {},
   "source": [
    "# Exploratory Data Analysis: OpenAQ API\n",
    "\n",
    "-  plotting trends, aggregations, outliers"
   ]
  }
 ],
 "metadata": {
  "language_info": {
   "name": "python"
  }
 },
 "nbformat": 4,
 "nbformat_minor": 5
}
